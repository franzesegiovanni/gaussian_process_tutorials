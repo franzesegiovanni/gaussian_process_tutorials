{
 "cells": [
  {
   "cell_type": "code",
   "execution_count": 7,
   "id": "dietary-european",
   "metadata": {},
   "outputs": [],
   "source": [
    "import numpy as np\n",
    "from sklearn.gaussian_process import GaussianProcessRegressor\n",
    "from sklearn.gaussian_process.kernels import RBF, Matern, WhiteKernel, ConstantKernel as C\n",
    "from scipy import linalg\n",
    "import matplotlib.pyplot as plt\n",
    "%matplotlib inline"
   ]
  },
  {
   "cell_type": "code",
   "execution_count": 10,
   "id": "numeric-fountain",
   "metadata": {},
   "outputs": [],
   "source": [
    "class GPR():\n",
    "    def __init__(self, kernel, alpha=1e-10, n_restarts_optimizer=1):\n",
    "        self.gp = GaussianProcessRegressor(kernel=kernel, alpha=1e-10, n_restarts_optimizer=20)\n",
    "\n",
    "    def fit(self, X, Y):\n",
    "        self.X=X\n",
    "        self.Y=Y\n",
    "        self.n_features=np.shape(self.X)[1]\n",
    "        self.n_samples=np.shape(self.X)[0]\n",
    "        gp_ = self.gp.fit(self.X, self.Y)\n",
    "\n",
    "        self.kernel_ = gp_.kernel_\n",
    "\n",
    "        self.length_scales=self.kernel_.get_params()['k1__k2__length_scale']\n",
    "\n",
    "        self.noise_var_ = gp_.alpha + self.kernel_.get_params()['k2__noise_level']\n",
    "\n",
    "        self.max_var   = self.kernel_.get_params()['k1__k1__constant_value']+ self.noise_var_\n",
    "        \n",
    "        self.kernel_params_= [self.kernel_.get_params()['k1__k2__length_scale'], self.kernel_.get_params()['k1']]\n",
    "\n",
    "        K_ = self.kernel_(self.X, self.X) + (self.noise_var_ * np.eye(len(self.X)))\n",
    "        \n",
    "        self.K_inv = np.linalg.inv(K_)\n",
    "\n",
    "    def predict(self, x, return_std=True):\n",
    "        k_star = self.kernel_(self.X, x)\n",
    "        print(k_star.shape)\n",
    "        k_star_K_inv_ = np.transpose(k_star) @ self.K_inv\n",
    "        self.mu=k_star_K_inv_ @ self.Y\n",
    "        self.sigma=None\n",
    "        if return_std==True:\n",
    "            self.sigma = self.kernel_(x, x)+ self.noise_var_ -  k_star_K_inv_ @ k_star\n",
    "            \n",
    "        self.std= self.sigma #np.sqrt(self.sigma)    \n",
    "        return self.mu, self.std \n",
    "    \n",
    "    def predict_derivative(self, x):\n",
    "        \"\"\"Input has shape n_query x n_features. \n",
    "        There are two outputs,\n",
    "        1. mean of the derivative function \n",
    "        2. predicted standar deviation of the function derivative\n",
    "        Each utput has shape n_query x n_features x n_outputs.\n",
    "        The output in position i,j,k has the derivative respect to the j-th feature of the k-th output, in position of the i-th data point.\n",
    "        For the derivative of sigma n_outputs is equal to 1\"\"\"\n",
    "        lscale=self.kernel_params_[0].reshape(-1,1)\n",
    "        lscale_stack= np.hstack([lscale]*self.n_samples)\n",
    "        alfa=  np.matmul(self.K_inv, self.Y)\n",
    "        dy_dx=[]\n",
    "        dsigma_dx=[]\n",
    "        for i in range(np.shape(x)[0]):\n",
    "            k_star= self.kernel_(self.X, x[i,:].reshape(1,-1))\n",
    "            k_star_T=k_star.transpose()\n",
    "            k_star_stack= np.vstack([k_star_T]*self.n_features)\n",
    "            dk_star_dX= k_star_stack * (self.X- x[i,:]).transpose()/ (lscale_stack** 2)\n",
    "            dy_dx.append(dk_star_dX @ alfa)     \n",
    "            dk_star_dX_K_inv_= dk_star_dX @  self.K_inv  \n",
    "            var_der=self.max_var/(lscale**2) - dk_star_dX_K_inv_ @ dk_star_dX.transpose()\n",
    "            dsigma_dx.append(np.sqrt(var_der))\n",
    "        return np.array(dy_dx), np.array(dsigma_dx)"
   ]
  },
  {
   "cell_type": "code",
   "execution_count": 11,
   "id": "maritime-reggae",
   "metadata": {
    "scrolled": false
   },
   "outputs": [
    {
     "name": "stderr",
     "output_type": "stream",
     "text": [
      "/home/oem/venv/lib/python3.8/site-packages/sklearn/gaussian_process/_gpr.py:610: ConvergenceWarning: lbfgs failed to converge (status=2):\n",
      "ABNORMAL_TERMINATION_IN_LNSRCH.\n",
      "\n",
      "Increase the number of iterations (max_iter) or scale the data as shown in:\n",
      "    https://scikit-learn.org/stable/modules/preprocessing.html\n",
      "  _check_optimize_result(\"lbfgs\", opt_res)\n",
      "/home/oem/venv/lib/python3.8/site-packages/sklearn/gaussian_process/kernels.py:420: ConvergenceWarning: The optimal value found for dimension 0 of parameter k2__noise_level is close to the specified lower bound 1e-05. Decreasing the bound and calling fit again may find a better value.\n",
      "  warnings.warn(\n"
     ]
    },
    {
     "name": "stdout",
     "output_type": "stream",
     "text": [
      "(100, 50)\n"
     ]
    },
    {
     "ename": "AttributeError",
     "evalue": "'GPR' object has no attribute 'std'",
     "output_type": "error",
     "traceback": [
      "\u001b[0;31m---------------------------------------------------------------------------\u001b[0m",
      "\u001b[0;31mAttributeError\u001b[0m                            Traceback (most recent call last)",
      "\u001b[0;32m<ipython-input-11-08344aa403ef>\u001b[0m in \u001b[0;36m<module>\u001b[0;34m\u001b[0m\n\u001b[1;32m      8\u001b[0m \u001b[0mgp\u001b[0m\u001b[0;34m.\u001b[0m\u001b[0mfit\u001b[0m\u001b[0;34m(\u001b[0m\u001b[0mX\u001b[0m\u001b[0;34m,\u001b[0m\u001b[0mY\u001b[0m\u001b[0;34m)\u001b[0m\u001b[0;34m\u001b[0m\u001b[0;34m\u001b[0m\u001b[0m\n\u001b[1;32m      9\u001b[0m \u001b[0mX_test\u001b[0m\u001b[0;34m=\u001b[0m\u001b[0mnp\u001b[0m\u001b[0;34m.\u001b[0m\u001b[0mlinspace\u001b[0m\u001b[0;34m(\u001b[0m\u001b[0;34m-\u001b[0m\u001b[0;36m30\u001b[0m\u001b[0;34m,\u001b[0m\u001b[0;36m30\u001b[0m\u001b[0;34m,\u001b[0m\u001b[0;36m50\u001b[0m\u001b[0;34m)\u001b[0m\u001b[0;34m.\u001b[0m\u001b[0mreshape\u001b[0m\u001b[0;34m(\u001b[0m\u001b[0;34m-\u001b[0m\u001b[0;36m1\u001b[0m\u001b[0;34m,\u001b[0m\u001b[0;36m1\u001b[0m\u001b[0;34m)\u001b[0m\u001b[0;34m\u001b[0m\u001b[0;34m\u001b[0m\u001b[0m\n\u001b[0;32m---> 10\u001b[0;31m \u001b[0mY_pred\u001b[0m\u001b[0;34m,\u001b[0m \u001b[0mstd\u001b[0m \u001b[0;34m=\u001b[0m\u001b[0mgp\u001b[0m\u001b[0;34m.\u001b[0m\u001b[0mpredict\u001b[0m\u001b[0;34m(\u001b[0m\u001b[0mX_test\u001b[0m\u001b[0;34m)\u001b[0m\u001b[0;34m\u001b[0m\u001b[0;34m\u001b[0m\u001b[0m\n\u001b[0m\u001b[1;32m     11\u001b[0m \u001b[0;34m\u001b[0m\u001b[0m\n\u001b[1;32m     12\u001b[0m \u001b[0mY_der\u001b[0m\u001b[0;34m,\u001b[0m \u001b[0mstd_derivative\u001b[0m\u001b[0;34m=\u001b[0m\u001b[0mgp\u001b[0m\u001b[0;34m.\u001b[0m\u001b[0mpredict_derivative\u001b[0m\u001b[0;34m(\u001b[0m\u001b[0mX_test\u001b[0m\u001b[0;34m)\u001b[0m\u001b[0;34m\u001b[0m\u001b[0;34m\u001b[0m\u001b[0m\n",
      "\u001b[0;32m<ipython-input-10-3639afa5f293>\u001b[0m in \u001b[0;36mpredict\u001b[0;34m(self, x, return_std)\u001b[0m\n\u001b[1;32m     34\u001b[0m \u001b[0;34m\u001b[0m\u001b[0m\n\u001b[1;32m     35\u001b[0m \u001b[0;31m#         self.std= np.sqrt(self.sigma)\u001b[0m\u001b[0;34m\u001b[0m\u001b[0;34m\u001b[0m\u001b[0;34m\u001b[0m\u001b[0m\n\u001b[0;32m---> 36\u001b[0;31m         \u001b[0;32mreturn\u001b[0m \u001b[0mself\u001b[0m\u001b[0;34m.\u001b[0m\u001b[0mmu\u001b[0m\u001b[0;34m,\u001b[0m \u001b[0mself\u001b[0m\u001b[0;34m.\u001b[0m\u001b[0mstd\u001b[0m\u001b[0;34m\u001b[0m\u001b[0;34m\u001b[0m\u001b[0m\n\u001b[0m\u001b[1;32m     37\u001b[0m \u001b[0;34m\u001b[0m\u001b[0m\n\u001b[1;32m     38\u001b[0m     \u001b[0;32mdef\u001b[0m \u001b[0mpredict_derivative\u001b[0m\u001b[0;34m(\u001b[0m\u001b[0mself\u001b[0m\u001b[0;34m,\u001b[0m \u001b[0mx\u001b[0m\u001b[0;34m)\u001b[0m\u001b[0;34m:\u001b[0m\u001b[0;34m\u001b[0m\u001b[0;34m\u001b[0m\u001b[0m\n",
      "\u001b[0;31mAttributeError\u001b[0m: 'GPR' object has no attribute 'std'"
     ]
    },
    {
     "data": {
      "image/png": "[encoded data removed]",
      "text/plain": [
       "<Figure size 432x288 with 1 Axes>"
      ]
     },
     "metadata": {
      "needs_background": "light"
     },
     "output_type": "display_data"
    }
   ],
   "source": [
    "X=np.linspace(-10,10,100)\n",
    "Y=10* np.sin(X)\n",
    "X=X.reshape(-1,1)\n",
    "Y=Y.reshape(-1,1)\n",
    "plt.plot(X,Y, 'o')\n",
    "k = C(constant_value=1)  * RBF(1*np.ones(1)) + WhiteKernel(0.01 )\n",
    "gp=GPR(kernel=k)\n",
    "gp.fit(X,Y)\n",
    "X_test=np.linspace(-30,30,50).reshape(-1,1)\n",
    "Y_pred, std =gp.predict(X_test)\n",
    "\n",
    "Y_der, std_derivative=gp.predict_derivative(X_test)\n",
    "plt.plot(X_test, Y_pred)\n",
    "plt.plot(X_test, Y_der[:,0,0])\n",
    "plt.fill_between(X_test.reshape(-1,), Y_pred.reshape(-1,)-np.diag(std), Y_pred.reshape(-1,)+np.diag(std), color='gray', alpha=0.3)\n",
    "plt.fill_between(X_test.reshape(-1,), Y_der[:,0,0]-std_derivative.reshape(-1,), Y_der[:,0,0]+std_derivative.reshape(-1,), color='gray', alpha=0.3)\n",
    "plt.legend([\"data\",\"fit\",\"derivative\"])"
   ]
  },
  {
   "cell_type": "code",
   "execution_count": null,
   "id": "hydraulic-finger",
   "metadata": {},
   "outputs": [],
   "source": []
  }
 ],
 "metadata": {
  "kernelspec": {
   "display_name": "venv",
   "language": "python",
   "name": "venv"
  },
  "language_info": {
   "codemirror_mode": {
    "name": "ipython",
    "version": 3
   },
   "file_extension": ".py",
   "mimetype": "text/x-python",
   "name": "python",
   "nbconvert_exporter": "python",
   "pygments_lexer": "ipython3",
   "version": "3.8.10"
  }
 },
 "nbformat": 4,
 "nbformat_minor": 5
}
